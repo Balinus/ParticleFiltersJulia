{
 "cells": [
  {
   "cell_type": "markdown",
   "metadata": {},
   "source": [
    "Using the same methodology, we can adapt the particle filter function to handle 2-Dimensional models.\n",
    "\n",
    "We will use a stochastic differential equation (SDE) of the form $dX(t) = \\mu(X(t), t)dt + \\sigma(X(t), t) d\\beta t$ to represent a model for movement. \n",
    "\n",
    "To approximate the SDE, we use the Euler-Maruyama method that recursively defines the states as\n",
    "\n",
    "$$X_{t+1} = X_t + \\mu(X_t)\\Delta t + \\sigma \\Delta W_n$$\n",
    "\n",
    "The first function below, $muFnc$, calculates $\\mu(X_t)$, the expected movement given current location ($loc$) and the expected movement direction ($driftParam$). Currently, the output of $muFnc$ does not depend on the location parameter, and only returns $driftParam$. \n",
    "\n",
    "The next function $x\\_t\\_2D$, calculates the next state $X_{t+1}$ given paramaters $loc$ (the current state $X_t$), $timePart$ (the time difference between $X_{t+1}$ and $X_t$), and $diffVar$ (variance parameter, $\\sigma^2$).\n",
    "\n",
    "The function $y\\_t\\_2D$ calculates the measurements given $loc$. We observe the true states $X_t$ with error, so the measurements are denoted $Y_t = X_t + \\epsilon_t$ where $\\epsilon_t \\sim Normal(0, 5)$.\n",
    "\n",
    "Lastly, the function $x\\_0\\_2D$ calculates the initial location by sampling from a uniform random variable."
   ]
  },
  {
   "cell_type": "code",
   "execution_count": 1,
   "metadata": {},
   "outputs": [
    {
     "data": {
      "text/plain": [
       "x_0_2D (generic function with 1 method)"
      ]
     },
     "execution_count": 1,
     "metadata": {},
     "output_type": "execute_result"
    }
   ],
   "source": [
    "# mu function that defines expected movement\n",
    "function muFnc(loc, driftParam)\n",
    "    latMov = driftParam[1]\n",
    "    longMov = driftParam[2]\n",
    "    return [latMov, longMov]\n",
    "end\n",
    "\n",
    "# calculate next location\n",
    "function x_t_2D(loc, timePart, diffVar)\n",
    "    return loc + muFnc([0,0], [5,5]).*timePart + sqrt(diffVar).*sqrt(timePart).*rand(MvNormal(eye(2)))\n",
    "end\n",
    "\n",
    "# measurement\n",
    "function y_t_2D(loc)\n",
    "    return loc + rand(Normal(0,5), 2)\n",
    "end\n",
    "\n",
    "# initial location, sample from Unif(-100, 100)\n",
    "function x_0_2D()\n",
    "    return rand(Uniform(-100, 100), 2) \n",
    "end\n"
   ]
  },
  {
   "cell_type": "markdown",
   "metadata": {},
   "source": [
    "Data is generated at successive times $t_1, t_2, ....$ where the difference between successive times is given by an expononential random variable with rate $timeParam$.\n",
    "\n",
    "The parameter $tt$ is the number of observations to be generated. At each iteration:\n",
    "* The time between observations is determined by sampling from an exponential random variable, and is denoted by $timePart$\n",
    "* The next location/state is calculated using $x\\_t\\_2D$ and is stored in the state vector $x$\n",
    "* The corresponding measurement is calculated using $y\\_t\\_2D$ and is stored in the measurement vector $y$\n",
    "* The successive times are stored in the vector $timeParts$\n",
    "\n"
   ]
  },
  {
   "cell_type": "code",
   "execution_count": 2,
   "metadata": {
    "scrolled": false
   },
   "outputs": [
    {
     "data": {
      "text/plain": [
       "generate_data_2D (generic function with 1 method)"
      ]
     },
     "execution_count": 2,
     "metadata": {},
     "output_type": "execute_result"
    }
   ],
   "source": [
    "using Distributions\n",
    "\n",
    "# timeParam = parameter for exponential draws of time between observations\n",
    "# diffVar = variance parameter for diffusion (sigma^2)\n",
    "# driftParam = expected movement direction (long, lat)\n",
    "function generate_data_2D(timeParam, diffVar, driftParam, tt)\n",
    "    t = 0.0\n",
    "    initialLoc = x_0_2D()         #initial state\n",
    "    x = Array{Float64}(tt, 2)      #states\n",
    "    y = Array{Float64}(tt, 2)       #measurements\n",
    "    timeParts = Array{Float64}(tt)\n",
    "    previousLoc = initialLoc\n",
    "    \n",
    "    for i in 1:tt\n",
    "        timePart = rand(Exponential(1), 1)\n",
    "        newLoc = x_t_2D(previousLoc, timePart, diffVar)\n",
    "        newObs = y_t_2D(newLoc)\n",
    "        t = t + timePart                                        \n",
    "        x[i,1:2] = newLoc\n",
    "        y[i,1:2] = newObs\n",
    "        timeParts[i] = timePart[1]\n",
    "        previousLoc = newLoc\n",
    "    end\n",
    "    return [x, y,timeParts]\n",
    "end\n",
    "\n",
    "# x,y, t = test(5, 5, [5,5], 100)\n",
    "\n",
    "# using PyPlot\n",
    "# fig, ax = subplots()\n",
    "# ax[:plot](x[1:100, 1], x[1:100, 2], marker = \".\",color=\"blue\")\n",
    "# ax[:plot](y[1:100, 1], y[1:100, 2], marker = \".\",color=\"red\")"
   ]
  },
  {
   "cell_type": "markdown",
   "metadata": {},
   "source": [
    "The $generate\\_data$ function returns the array of states, array of measurements, and array of times between observations.\n",
    "\n",
    "The implementation of the particle filter follows the same steps as in the one-dimensional case:\n",
    "1. Start by initializing the $N$ particles using the function $x\\_0\\_2D$. Each of the $N$ particles is a two dimensional vector, so $x\\_pre$ is an $N x 2$ matrix.\n",
    "2. At each time step:\n",
    "\n",
    "    (1) Move each particle according to $x\\_t\\_2D$, using the same time differences as the previously generated data.\n",
    "    \n",
    "    (2) Compute the weights of each particle using function $conditional\\_likelihoods\\_2D$. Because the latitude and longitude values are independent, the joint likelihood is calculated by multiplying the likelihood of the latitude (based on the latitude of the measurement) and the likelihood of the longitude (based on the longitude of the measurement). \n",
    "    \n",
    "    (3) Normalize the weights so that they add up to 1.\n",
    "    \n",
    "    (3) Resample from $x\\_k\\_pre$ using the normalized weights.\n",
    "    \n",
    "    (4) The mean latitute and mean longitude of the particles become the estimate of the location"
   ]
  },
  {
   "cell_type": "code",
   "execution_count": 3,
   "metadata": {},
   "outputs": [
    {
     "data": {
      "text/plain": [
       "conditional_likelihoods_2D (generic function with 1 method)"
      ]
     },
     "execution_count": 3,
     "metadata": {},
     "output_type": "execute_result"
    }
   ],
   "source": [
    "function conditional_likelihoods_2D(y, x)\n",
    "    diff = hcat(x[:,1] - y[1], x[:,2] - y[2])\n",
    "    likelihoods = hcat(pdf(Normal(0,5), diff[:,1]), pdf(Normal(0,5), diff[:,2]))\n",
    "    return likelihoods[:,1] .* likelihoods[:,2]\n",
    "end"
   ]
  },
  {
   "cell_type": "code",
   "execution_count": 4,
   "metadata": {},
   "outputs": [
    {
     "data": {
      "text/plain": [
       "particle_filter_2D (generic function with 1 method)"
      ]
     },
     "execution_count": 4,
     "metadata": {},
     "output_type": "execute_result"
    }
   ],
   "source": [
    "function particle_filter_2D(data, x_0_2D, x_t_2D, conditional_likelihoods_2D, N, tt)\n",
    "    x_post = Array{Float64}(tt,2)    # initialize x_post\n",
    "    x = data[1]                           # states\n",
    "    y = data[2]                           # observations\n",
    "    timeParts = data[3]\n",
    "    x_pre = Array{Float64}(N, 2)  # Initialization\n",
    "    for i in 1:N\n",
    "        x_pre[i, 1:2] = x_0_2D()\n",
    "    end\n",
    "    \n",
    "    for k = 1:tt\n",
    "        x_k_pre = Array{Float64}(N, 2)\n",
    "        for i in 1:N\n",
    "            x_k_pre[i,:] = x_t_2D(x_pre[i,:], timeParts[k], 5)\n",
    "        end\n",
    "        likelihood = conditional_likelihoods_2D(y[k,:],x_k_pre)\n",
    "        total = sum(likelihood)       # Normalization: normalize weights so that they sum to 1\n",
    "        likelihood = likelihood./total\n",
    "        index = wsample(1:N, likelihood, N)\n",
    "        x_k_post = x_k_pre[index, :]\n",
    "        x_post[k,:] = [mean(x_k_post[:,1]), mean(x_k_post[:,2])]\n",
    "        x_pre = x_k_post\n",
    "    end\n",
    "    return x_post\n",
    "end\n"
   ]
  },
  {
   "cell_type": "markdown",
   "metadata": {},
   "source": [
    "Now we can simulate data and see how well the particle filter performs. "
   ]
  },
  {
   "cell_type": "code",
   "execution_count": 6,
   "metadata": {},
   "outputs": [
    {
     "data": {
      "image/png": "[encoded data removed]",
      "text/plain": [
       "PyPlot.Figure(PyObject <matplotlib.figure.Figure object at 0x000000001F7CBF98>)"
      ]
     },
     "metadata": {},
     "output_type": "display_data"
    },
    {
     "name": "stdout",
     "output_type": "stream",
     "text": [
      "5.906128311876862\n",
      "3.5326832271057964\n"
     ]
    },
    {
     "data": {
      "text/plain": [
       "PyObject <matplotlib.legend.Legend object at 0x000000001FCF9E48>"
      ]
     },
     "execution_count": 6,
     "metadata": {},
     "output_type": "execute_result"
    }
   ],
   "source": [
    "srand(2)\n",
    "data = generate_data_2D(5, 5, [5,5], 50)\n",
    "pred = particle_filter_2D(data, x_0_2D, x_t_2D, conditional_likelihoods_2D, 200, 50)\n",
    "\n",
    "x = data[1]\n",
    "y = data[2]\n",
    "\n",
    "mse = 0\n",
    "mse_pf = 0\n",
    "for i in 1:50\n",
    "    mse = mse + norm(y[i,:] - x[i,:])\n",
    "    mse_pf = mse_pf + norm(pred[i,:] - x[i,:])\n",
    "end\n",
    "mse = mse/50\n",
    "mse_pf = mse_pf/50\n",
    "\n",
    "println(mse)\n",
    "println(mse_pf)\n",
    "\n",
    "using PyPlot\n",
    "fig, ax = subplots()\n",
    "ax[:plot](x[:,1], x[:,2], marker = \".\",color=\"blue\", label = \"true states\")\n",
    "ax[:plot](y[:,1], y[:,2], marker = \".\",color=\"red\", label = \"measurements\")\n",
    "ax[:plot](pred[:,1], pred[:,2], \"g--\", linewidth = 0.5, label = \"particle filter\")\n",
    "legend()"
   ]
  },
  {
   "cell_type": "markdown",
   "metadata": {},
   "source": [
    "The particle filter reduces the mean normalized error by 36%"
   ]
  }
 ],
 "metadata": {
  "kernelspec": {
   "display_name": "Julia 0.5.2",
   "language": "julia",
   "name": "julia-0.5"
  },
  "language_info": {
   "file_extension": ".jl",
   "mimetype": "application/julia",
   "name": "julia",
   "version": "0.5.2"
  }
 },
 "nbformat": 4,
 "nbformat_minor": 2
}
